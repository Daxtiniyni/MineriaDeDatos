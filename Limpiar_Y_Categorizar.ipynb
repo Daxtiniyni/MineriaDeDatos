{
 "cells": [
  {
   "cell_type": "code",
   "execution_count": 2,
   "id": "f80e0445",
   "metadata": {},
   "outputs": [
    {
     "name": "stdout",
     "output_type": "stream",
     "text": [
      "Ejemplo de descripciones y sus categorías:\n",
      "                            Description              Categoria\n",
      "0    WHITE HANGING HEART T-LIGHT HOLDER     Hogar & Decoración\n",
      "1                   WHITE METAL LANTERN                  Otros\n",
      "2        CREAM CUPID HEARTS COAT HANGER                  Otros\n",
      "3   KNITTED UNION FLAG HOT WATER BOTTLE  Vajilla & Cristalería\n",
      "4        RED WOOLLY HOTTIE WHITE HEART.     Hogar & Decoración\n",
      "5          SET 7 BABUSHKA NESTING BOXES                  Otros\n",
      "6     GLASS STAR FROSTED T-LIGHT HOLDER     Hogar & Decoración\n",
      "7                HAND WARMER UNION JACK                  Otros\n",
      "8             HAND WARMER RED POLKA DOT                  Otros\n",
      "9         ASSORTED COLOUR BIRD ORNAMENT     Hogar & Decoración\n",
      "10           POPPY'S PLAYHOUSE BEDROOM                   Otros\n",
      "11            POPPY'S PLAYHOUSE KITCHEN                  Otros\n",
      "12    FELTCRAFT PRINCESS CHARLOTTE DOLL       Juguetes & Niños\n",
      "13              IVORY KNITTED MUG COSY   Vajilla & Cristalería\n",
      "14   BOX OF 6 ASSORTED COLOUR TEASPOONS         Almacenamiento\n",
      "\n",
      "Resumen por categoría (Top 10 por unidades vendidas):\n",
      "                       Transacciones  Total_Unidades\n",
      "Categoria                                           \n",
      "Otros                         259351         2572553\n",
      "Hogar & Decoración             56682          668917\n",
      "Almacenamiento                 46816          548679\n",
      "Bolsas                         34581          423071\n",
      "Fiestas & Temporada            34830          377124\n",
      "Bakeware                       17649          254962\n",
      "Vajilla & Cristalería          27180          221365\n",
      "Iluminación                    12138          172125\n",
      "Papelería & Regalos            13610          164419\n",
      "Cocina & Utensilios            13878          111307\n"
     ]
    }
   ],
   "source": [
    "import pandas as pd\n",
    "import re\n",
    "\n",
    "# 1. Carga tu CSV (asegúrate de la ruta exacta)\n",
    "ruta = \"Online Retail.csv\"\n",
    "df = pd.read_csv(ruta, encoding=\"latin1\")\n",
    "\n",
    "# 2. Normaliza la descripción a minúsculas y quita espacios\n",
    "df[\"Description_clean\"] = df[\"Description\"].str.lower().str.strip()\n",
    "\n",
    "# 3. Elimina filas donde Description_clean sea NaN o cadena vacía\n",
    "df = df[df[\"Description_clean\"].notna()]\n",
    "df = df[df[\"Description_clean\"] != \"\"]\n",
    "\n",
    "# 4. Elimina filas donde Quantity o UnitPrice sean cero o negativos\n",
    "df = df[df[\"Quantity\"] > 0]\n",
    "df = df[df[\"UnitPrice\"] > 0]\n",
    "\n",
    "# 5. Diccionario de categorías ↓ keywords\n",
    "categoria_keywords = {\n",
    "    \"Bolsas\":                [\"jumbo bag\", \"lunch bag\", \"shopper\", \"storage bag\"],\n",
    "    \"Hogar & Decoración\":    [\"heart\", \"ornament\", \"frame\", \"chalkboard\", \"holder\"],\n",
    "    \"Bakeware\":              [\"cakestand\", \"cake tins\", \"cake cases\", \"jelly moulds\", \"jam making\"],\n",
    "    \"Iluminación\":           [\"t-light holder\", \"lamp\", \"candle\", \"light\"],\n",
    "    \"Fiestas & Temporada\":   [\"bunting\", \"christmas\", \"decoration\"],\n",
    "    \"Cocina & Utensilios\":   [\"wooden spoon\", \"cocktail sticks\", \"recipe box\", \"bowl\", \"plate\", \"jug\"],\n",
    "    \"Vajilla & Cristalería\": [\"teacup and saucer\", \"glass\", \"bottle\", \"mug\"],\n",
    "    \"Papelería & Regalos\":   [\"card\", \"gift bag\", \"gift book\", \"note\", \"journal\"],\n",
    "    \"Almacenamiento\":        [\"box\", \"tin\", \"bag\", \"storage\"],\n",
    "    \"Textiles & Accesorios\": [\"cushion\", \"scarf\", \"apron\", \"fabric\"],\n",
    "    \"Muebles & Accesorios\":  [\"key holder\", \"frame\", \"shelf\", \"table\"],\n",
    "    \"Juguetes & Niños\":      [\"toy\", \"puzzle\", \"doll\", \"ornament\"]\n",
    "}\n",
    "\n",
    "# 6. Función para asignar categoría\n",
    "def asignar_categoria(desc):\n",
    "    if not isinstance(desc, str):\n",
    "        return \"Otros\"\n",
    "    for categoria, keywords in categoria_keywords.items():\n",
    "        for kw in keywords:\n",
    "            if re.search(r\"\\b\" + re.escape(kw) + r\"\\b\", desc):\n",
    "                return categoria\n",
    "    return \"Otros\"\n",
    "\n",
    "# 7. Aplica la función a la columna limpia\n",
    "df[\"Categoria\"] = df[\"Description_clean\"].apply(asignar_categoria)\n",
    "\n",
    "# 8. Muestra las primeras filas con las categorías asignadas\n",
    "print(\"Ejemplo de descripciones y sus categorías:\")\n",
    "print(df[[\"Description\", \"Categoria\"]].drop_duplicates().head(15))\n",
    "\n",
    "# 9. Agrupa por categoría para resumir\n",
    "resumen = df.groupby(\"Categoria\").agg({\n",
    "    \"InvoiceNo\": \"count\",\n",
    "    \"Quantity\": \"sum\"\n",
    "}).rename(columns={\"InvoiceNo\": \"Transacciones\", \"Quantity\": \"Total_Unidades\"})\n",
    "\n",
    "print(\"\\nResumen por categoría (Top 10 por unidades vendidas):\")\n",
    "print(resumen.sort_values(\"Total_Unidades\", ascending=False).head(10))\n"
   ]
  },
  {
   "cell_type": "code",
   "execution_count": 3,
   "id": "c101f6f7",
   "metadata": {},
   "outputs": [
    {
     "name": "stdout",
     "output_type": "stream",
     "text": [
      "¡CSV con categorías generado: OnlineRetail_Categorias.csv!\n"
     ]
    }
   ],
   "source": [
    "# Suponiendo que ya hiciste todo lo de asignar Categoria al df\n",
    "# Por ejemplo, df[\"Categoria\"] = df[\"Description_clean\"].apply(asignar_categoria)\n",
    "\n",
    "# 1. Elige el nombre del CSV que quieras; aquí le puse “OnlineRetail_Categorias.csv”\n",
    "df.to_csv(\"OnlineRetail_Categorias.csv\", index=False, encoding=\"utf-8\")\n",
    "\n",
    "print(\"¡CSV con categorías generado: OnlineRetail_Categorias.csv!\")"
   ]
  }
 ],
 "metadata": {
  "kernelspec": {
   "display_name": "Python 3",
   "language": "python",
   "name": "python3"
  },
  "language_info": {
   "codemirror_mode": {
    "name": "ipython",
    "version": 3
   },
   "file_extension": ".py",
   "mimetype": "text/x-python",
   "name": "python",
   "nbconvert_exporter": "python",
   "pygments_lexer": "ipython3",
   "version": "3.10.12"
  }
 },
 "nbformat": 4,
 "nbformat_minor": 5
}
